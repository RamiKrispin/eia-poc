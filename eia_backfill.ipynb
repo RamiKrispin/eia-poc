{
  "cells": [
    {
      "cell_type": "raw",
      "metadata": {},
      "source": [
        "---\n",
        "title: EIA API - US48 Demand for Electricity Backfill\n",
        "format:\n",
        "  html:\n",
        "    code-fold: true\n",
        "---"
      ],
      "id": "9f4e4291"
    },
    {
      "cell_type": "markdown",
      "metadata": {},
      "source": [
        "The goal of this doc is to execute an initial data pull of the demand for electricity in the US (lower 48) from the EIA API. This includes the following functionality:\n",
        "\n",
        "- Setting parameters and pulling the data\n",
        "- Data quality checks\n",
        "- Saving the data and creating a log file\n",
        "- Data profiling\n",
        "\n",
        "## Load libraries\n",
        "\n",
        "We will pull the data from the EIA API using a set of functions on the `eia_api.py` file. This includes the following functions:\n",
        "\n",
        "- `eia_get` - A function for query data from the API. Can pull up to 5000 rows per call\n",
        "- `eia_backfile` - A wrapper function, using batches requests from the API using the `eia_get` function to serve large requests (more than 5000 rows)\n",
        "- `day_offset` - A helper function creates a vector of dates equally spaced by days\n",
        "- `hour_offset` - A helper function creates a vector of dates equally spaced by days\n"
      ],
      "id": "a0afd562"
    },
    {
      "cell_type": "code",
      "metadata": {},
      "source": [
        "import eia_api\n",
        "import eia_mlflow\n",
        "import plot_fc\n",
        "import eia_etl as etl\n",
        "import eia_forecast as fc\n",
        "import eia_backtesting\n",
        "import mlflow"
      ],
      "id": "e79b442f",
      "execution_count": null,
      "outputs": []
    },
    {
      "cell_type": "markdown",
      "metadata": {},
      "source": [
        "The `eia_api.py` file imports the following libraries:\n",
        "\n",
        "- `pandas` - for data processing\n",
        "- `datetime` - to work with dates and time objects\n",
        "- `requests` - to send `GET` requests to the EIA API\n",
        "\n",
        "In addition, we will use the following libraries:\n",
        "\n",
        "- `os` - load environment variables\n",
        "- `numpy` - to create sequences (vectors)\n",
        "- `plotly` - visualize the data\n",
        "- `pathlib` - set file path\n",
        "- `ydata_profiling` - for data profiling\n"
      ],
      "id": "2486f333"
    },
    {
      "cell_type": "code",
      "metadata": {},
      "source": [
        "import os\n",
        "import datetime\n",
        "from zoneinfo import ZoneInfo\n",
        "import numpy as np\n",
        "import pandas as pd\n",
        "import plotly.graph_objects as go\n",
        "from pathlib import Path\n",
        "from ydata_profiling import ProfileReport\n",
        "from darts import TimeSeries\n",
        "from darts.models.forecasting.linear_regression_model import LinearRegressionModel"
      ],
      "id": "0feda15a",
      "execution_count": null,
      "outputs": []
    },
    {
      "cell_type": "markdown",
      "metadata": {},
      "source": [
        "## Setting Parameters\n",
        "\n",
        "Next, we will set the backfile parameters:"
      ],
      "id": "b3beb9fb"
    },
    {
      "cell_type": "code",
      "metadata": {},
      "source": [
        "api_path = \"electricity/rto/region-data/data\"\n",
        "facets = {\n",
        "    \"respondent\": \"US48\",\n",
        "    \"type\": \"D\"\n",
        "}\n",
        "\n",
        "start = datetime.datetime(2015, 7, 1, 5)\n",
        "end = datetime.datetime(2024, 6, 4, 1)\n",
        "\n",
        "offset = 2250"
      ],
      "id": "9c97bff8",
      "execution_count": null,
      "outputs": []
    },
    {
      "cell_type": "markdown",
      "metadata": {},
      "source": [
        "We will use the `getenv` function from the `os` library to pull the EIA API key, which is stored as an environment variable named `EIA_API_KEY`:\n"
      ],
      "id": "80cf52b7"
    },
    {
      "cell_type": "code",
      "metadata": {},
      "source": [
        "eia_api_key = os.getenv('EIA_API_KEY')"
      ],
      "id": "1a9f38e4",
      "execution_count": null,
      "outputs": []
    },
    {
      "cell_type": "markdown",
      "metadata": {},
      "source": [
        "We will use the `eia_metadata` function to pull the series metadata. Note that to pull metadata from the API, we will use as the `api_path` the series routh path and drop the `/data` extension (which is used to pull data):\n"
      ],
      "id": "100dad20"
    },
    {
      "cell_type": "code",
      "metadata": {},
      "source": [
        "metadata = eia_api.eia_metadata(api_key = eia_api_key, api_path = \"electricity/rto/region-data/\")"
      ],
      "id": "a3e3decc",
      "execution_count": null,
      "outputs": []
    },
    {
      "cell_type": "markdown",
      "metadata": {},
      "source": [
        "Depending on the API path, the API returns some useful information about the series available on the path:\n"
      ],
      "id": "b24cb485"
    },
    {
      "cell_type": "code",
      "metadata": {},
      "source": [
        "metadata.meta.keys()"
      ],
      "id": "adebe7c6",
      "execution_count": null,
      "outputs": []
    },
    {
      "cell_type": "markdown",
      "metadata": {},
      "source": [
        "One useful data point is the start and end period of the series:\n"
      ],
      "id": "8a54b125"
    },
    {
      "cell_type": "code",
      "metadata": {},
      "source": [
        "print(metadata.meta[\"startPeriod\"])\n",
        "print(metadata.meta[\"endPeriod\"])"
      ],
      "id": "9b6e31ef",
      "execution_count": null,
      "outputs": []
    },
    {
      "cell_type": "markdown",
      "metadata": {},
      "source": [
        "## Pulling the Data\n",
        "\n",
        "By default, the API has a 5000-row limitation per pull. The eia_backfill function enables the handling of a larger data request by sending a batch request and appending back the data:\n"
      ],
      "id": "5c22febe"
    },
    {
      "cell_type": "code",
      "metadata": {},
      "source": [
        "df = eia_api.eia_backfile(api_key = eia_api_key, \n",
        "        api_path = api_path, \n",
        "        facets = facets, \n",
        "        start = start,\n",
        "        end = end,\n",
        "        offset = offset) "
      ],
      "id": "448c19c6",
      "execution_count": null,
      "outputs": []
    },
    {
      "cell_type": "markdown",
      "metadata": {},
      "source": [
        "The DataFrame head:"
      ],
      "id": "e295d2b4"
    },
    {
      "cell_type": "code",
      "metadata": {},
      "source": [
        "df.data.head(10)"
      ],
      "id": "af31ace1",
      "execution_count": null,
      "outputs": []
    },
    {
      "cell_type": "markdown",
      "metadata": {},
      "source": [
        "And, the DataFrame tail:"
      ],
      "id": "645dc240"
    },
    {
      "cell_type": "code",
      "metadata": {},
      "source": [
        "df.data.tail(10)"
      ],
      "id": "5089bb5e",
      "execution_count": null,
      "outputs": []
    },
    {
      "cell_type": "markdown",
      "metadata": {},
      "source": [
        "## Data Quality checks\n",
        "\n",
        "We will runn the following data quality checks:\n",
        "\n",
        "- Check that the series timestamp is regular (e.g., equaliy spaced)\n",
        "- Check for missing values\n",
        "- Check for match between the start and end of the series and the request settings\n",
        "- Create a log file \n",
        "\n",
        "### Check the Series Timestamp\n"
      ],
      "id": "94c70dd1"
    },
    {
      "cell_type": "code",
      "metadata": {},
      "source": [
        "ts_obj = pd.DataFrame(np.arange(start = start, stop = end + datetime.timedelta(hours = 1), step = datetime.timedelta(hours = 1)).astype(datetime.datetime), columns=[\"index\"])\n",
        "ts_obj  = ts_obj.merge(df.data, left_on = \"index\", right_on = \"period\", how=\"left\")"
      ],
      "id": "b7b91cc6",
      "execution_count": null,
      "outputs": []
    },
    {
      "cell_type": "markdown",
      "metadata": {},
      "source": [
        "### Plot the Series\n",
        "\n",
        "We will use Plotly to visualize the series:\n"
      ],
      "id": "b8f2494f"
    },
    {
      "cell_type": "code",
      "metadata": {},
      "source": [
        "d = df.data.sort_values(by = [\"period\"])\n",
        "d = d[d[\"respondent\"] == \"US48\"]\n",
        "p = go.Figure()\n",
        "p.add_trace(go.Scatter(x = ts_obj[\"index\"], y = ts_obj[\"value\"],\n",
        "                       mode='lines',\n",
        "                    name='data',\n",
        "                    line=dict(color='royalblue', width=2)))\n",
        "p.show()"
      ],
      "id": "384e05ac",
      "execution_count": null,
      "outputs": []
    },
    {
      "cell_type": "markdown",
      "metadata": {},
      "source": [
        "### Create Log and Check for Missing values\n"
      ],
      "id": "5363403d"
    },
    {
      "cell_type": "code",
      "metadata": {},
      "source": [
        "log = {\n",
        "    \"index\": 1,\n",
        "    \"respondent\": \"US48\",\n",
        "    \"respondent_type\": \"Demand\",\n",
        "    \"time\": datetime.datetime.now(),\n",
        "    \"start\": start,\n",
        "    \"end\": end,\n",
        "    \"start_act\": ts_obj[\"period\"].min(),\n",
        "    \"end_act\": ts_obj[\"period\"].max(),\n",
        "    \"start_match\": ts_obj[\"period\"].min() == start, \n",
        "    \"end_match\": ts_obj[\"period\"].max() == end, \n",
        "     \"n_obs\": len(ts_obj),\n",
        "    \"na\": ts_obj[\"value\"].isna().sum(),\n",
        "    \"type\": \"backfill\",\n",
        "    \"update\": False,\n",
        "    \"success\": False,\n",
        "    \"comments\": \"Initial data backfill\"\n",
        "\n",
        "}\n",
        "\n",
        "log_file = pd.DataFrame([log])\n",
        "\n",
        "log_file"
      ],
      "id": "9b49e3a2",
      "execution_count": null,
      "outputs": []
    },
    {
      "cell_type": "markdown",
      "metadata": {},
      "source": [
        "Last but not least, we will check if the start and end of the series match the GET request settings and save the data and log:"
      ],
      "id": "74da5812"
    },
    {
      "cell_type": "code",
      "metadata": {},
      "source": [
        "if (log_file.iloc[0][\"end\"] == log_file.iloc[0][\"end_act\"] and \n",
        "    log_file.iloc[0][\"start\"] == log_file.iloc[0][\"start_act\"] and\n",
        "    log_file.iloc[0][\"na\"] == 0):\n",
        "    log_file.loc[0, \"success\"] = True\n",
        "    print(\"Save the data into CSV file\")\n",
        "    df.data.to_csv(\"data/us48.csv\", index = False)\n",
        "    log_file.loc[0, \"update\"] = True\n",
        "    print(\"Save the metadata into CSV file\")\n",
        "    log_file.to_csv(\"data/us48_metadata.csv\", index = False)\n",
        "\n",
        "    \n",
        "else:\n",
        "    log_file.iloc[0][\"success\"] = False\n",
        "    log_file.iloc[0][\"update\"] = False"
      ],
      "id": "0dae019a",
      "execution_count": null,
      "outputs": []
    },
    {
      "cell_type": "markdown",
      "metadata": {},
      "source": [
        "## Data Profiling\n",
        "\n",
        "The ydata-profiling library provides a detailed report about the data structure with the `ProfileReport` function:\n"
      ],
      "id": "000451cd"
    },
    {
      "cell_type": "code",
      "metadata": {},
      "source": [
        "profile = ProfileReport(df.data, title=\"Profiling Report\")\n",
        "profile"
      ],
      "id": "62f95838",
      "execution_count": null,
      "outputs": []
    }
  ],
  "metadata": {
    "kernelspec": {
      "name": "python3",
      "language": "python",
      "display_name": "Python 3 (ipykernel)"
    }
  },
  "nbformat": 4,
  "nbformat_minor": 5
}