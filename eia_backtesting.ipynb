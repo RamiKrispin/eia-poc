{
  "cells": [
    {
      "cell_type": "raw",
      "metadata": {},
      "source": [
        "---\n",
        "title: Model Backtesting\n",
        "format:\n",
        "  html:\n",
        "    code-fold: true\n",
        "---"
      ],
      "id": "00ef512b"
    },
    {
      "cell_type": "code",
      "metadata": {},
      "source": [
        "import eia_backtesting\n",
        "import pandas as pd\n",
        "import plotly.graph_objects as go\n",
        "import os\n",
        "import datetime"
      ],
      "id": "9860cd5e",
      "execution_count": null,
      "outputs": []
    },
    {
      "cell_type": "code",
      "metadata": {},
      "source": [
        "input = pd.read_csv(\"./data/us48.csv\")\n",
        "input[\"period\"] = pd.to_datetime(input[\"period\"])\n",
        "end = input[\"period\"].max().floor(freq = \"d\")  - datetime.timedelta(hours = 1)\n",
        "input = input[input[\"period\"] <= end]\n",
        "input.tail"
      ],
      "id": "5950e72c",
      "execution_count": null,
      "outputs": []
    },
    {
      "cell_type": "code",
      "metadata": {},
      "source": [
        "p = go.Figure()\n",
        "p.add_trace(go.Scatter(x =input[\"period\"], y = input[\"value\"],\n",
        "                       mode='lines',\n",
        "                    name='data',\n",
        "                    line=dict(color='royalblue', width=2)))\n",
        "p.show()"
      ],
      "id": "8c6bde84",
      "execution_count": null,
      "outputs": []
    },
    {
      "cell_type": "code",
      "metadata": {},
      "source": [
        "freq = 24\n",
        "h = 24\n",
        "overlap = 0\n",
        "tags = {\"type:\": \"backfill\", \"version\": \"0.0.0.9000\"}\n",
        "experiment_name = \"Forecast Testing\"\n",
        "mlflow_path = \"./metadata/\"\n",
        "p = 30\n",
        "\n",
        "quantiles = [0.025, 0.1, 0.25, 0.5, 0.75, 0.9, 0.975]\n",
        "\n",
        "params1 = {\n",
        "    \"model\": \"LinearRegressionModel\",\n",
        "    \"model_label\": \"model 1\",\n",
        "    \"comments\": \"LM model with lags, training with 2 years of history\",\n",
        "    \"h\": h,\n",
        "    \"freq\": freq,\n",
        "    \"num_samples\": 500,\n",
        "    \"lags\": [ -freq, -7 * freq,  - 365 * freq],\n",
        "    \"likelihood\": \"quantile\",\n",
        "    \"quantiles\": quantiles,\n",
        "    \"pi\": 0.95,\n",
        "    \"train\": 24*365*2,\n",
        "    }\n",
        "\n",
        "params2 = {\n",
        "    \"model\": \"LinearRegressionModel\",\n",
        "    \"model_label\": \"model 2\",\n",
        "    \"comments\": \"LM model with lags, training with 3 years of history\",\n",
        "    \"h\": h,\n",
        "    \"freq\": freq,\n",
        "    \"num_samples\": 100,\n",
        "    \"lags\": [-freq, -7 * freq,  - 365 * freq],\n",
        "    \"likelihood\": \"quantile\",\n",
        "    \"quantiles\": quantiles,\n",
        "    \"pi\": 0.95,\n",
        "    \"train\": 24*365*3,\n",
        "    }\n",
        "\n",
        "params3 = {\n",
        "    \"model\": \"LinearRegressionModel\",\n",
        "    \"model_label\": \"model 3\",\n",
        "    \"comments\": \"Model 2 with lag 1\",\n",
        "    \"h\": h,\n",
        "    \"freq\": freq,\n",
        "    \"num_samples\": 100,\n",
        "    \"lags\": [ -1, -freq, -7 * freq,  - 365 * freq],\n",
        "    \"likelihood\": \"quantile\",\n",
        "    \"quantiles\": quantiles,\n",
        "    \"pi\": 0.95,\n",
        "    \"train\": 24*365*3,\n",
        "    }\n",
        "params4 = {\n",
        "    \"model\": \"LinearRegressionModel\",\n",
        "    \"model_label\": \"model 4\",\n",
        "    \"comments\": \"Model 1 with lag 1\",\n",
        "    \"h\": h,\n",
        "    \"freq\": freq,\n",
        "    \"num_samples\": 100,\n",
        "    \"lags\": [ -1, -2, -3, -4, -5, -6, -freq, -2 * freq, -7 * freq,  - 365 * freq],\n",
        "    \"likelihood\": \"quantile\",\n",
        "    \"quantiles\": quantiles,\n",
        "    \"pi\": 0.95,\n",
        "    \"train\": 24*365*2,\n",
        "    }\n",
        "\n",
        "params5 = {\n",
        "    \"model\": \"LinearRegressionModel\",\n",
        "    \"model_label\": \"model 5\",\n",
        "    \"comments\": \"Model 2 with lag 1\",\n",
        "    \"h\": h,\n",
        "    \"freq\": freq,\n",
        "    \"num_samples\": 100,\n",
        "    \"lags\": [ -freq, -2 * freq, -7 * freq, -14 * freq, - 365 * freq],\n",
        "    \"likelihood\": \"quantile\",\n",
        "    \"quantiles\": quantiles,\n",
        "    \"pi\": 0.95,\n",
        "    \"train\": 24*365*2,\n",
        "    }\n",
        "\n",
        "params = [params1, params2, params3, params4, params5]"
      ],
      "id": "94829913",
      "execution_count": null,
      "outputs": []
    },
    {
      "cell_type": "code",
      "metadata": {},
      "source": [
        "bkt = eia_backtesting.backtesting(input = input, \n",
        "            partitions=p, \n",
        "            overlap = overlap, \n",
        "            h = h, \n",
        "            params = params,\n",
        "            experiment_name = experiment_name,\n",
        "            mlflow_path = mlflow_path,\n",
        "            overwrite = True,\n",
        "            tags = tags)\n"
      ],
      "id": "ec4eaeac",
      "execution_count": null,
      "outputs": []
    },
    {
      "cell_type": "code",
      "metadata": {},
      "source": [
        "print(bkt.leaderboard)"
      ],
      "id": "b62d1dc9",
      "execution_count": null,
      "outputs": []
    },
    {
      "cell_type": "code",
      "metadata": {},
      "source": [
        "eia_backtesting.plot_score(score = bkt.score, type = \"box\")"
      ],
      "id": "e9e88456",
      "execution_count": null,
      "outputs": []
    },
    {
      "cell_type": "code",
      "metadata": {},
      "source": [
        "eia_backtesting.plot_score(score = bkt.score, type = \"line\")"
      ],
      "id": "b1dc7d0e",
      "execution_count": null,
      "outputs": []
    }
  ],
  "metadata": {
    "kernelspec": {
      "name": "python3",
      "language": "python",
      "display_name": "Python 3 (ipykernel)"
    }
  },
  "nbformat": 4,
  "nbformat_minor": 5
}